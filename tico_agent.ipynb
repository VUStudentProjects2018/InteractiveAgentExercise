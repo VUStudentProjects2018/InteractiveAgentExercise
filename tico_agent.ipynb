{
 "cells": [
  {
   "cell_type": "markdown",
   "metadata": {},
   "source": [
    "This is an interactive agent. All it does is to return \"That sounds interesting. Please tell me more\" when it hears non-aggressive sentences. Otherwise, it will simply rely \"I'm sorry about that. Can you tell me another story?\".\n",
    "\n",
    "An aggressive reply is naively defined as one that contains aggresive words. Otherwise, it is not. \n",
    "\n",
    "So we will first need to design a list of words that to identify aggresive sentences."
   ]
  },
  {
   "cell_type": "code",
   "execution_count": 11,
   "metadata": {
    "collapsed": false
   },
   "outputs": [
    {
     "name": "stdout",
     "output_type": "stream",
     "text": [
      "Enter a sentence: Hi fuck\n",
      "I'm sorry about that. Can you tell me another story?\n"
     ]
    }
   ],
   "source": [
    "class sentence_checker:    \n",
    "    splitted_inp = []\n",
    "    \n",
    "    def __init__(self, check_words=[]):\n",
    "        self.check_words = check_words\n",
    "    \n",
    "    def check_sentence(self):\n",
    "        count = 0;\n",
    "        for word in self.check_words:\n",
    "            if word in self.splitted_inp:\n",
    "                count += 1\n",
    "        return count > 0\n",
    "\n",
    "sentence_checker.splitted_inp = input(\"Enter a sentence: \").split()\n",
    "\n",
    "agg_check = sentence_checker(['fuck', 'fucking', 'shit', 'retard', 'loser'])\n",
    "pol_check = sentence_checker(['please', 'would', 'beautiful', 'excellent'])\n",
    "end_check = sentence_checker(['bye', 'end', 'see you', 'farewell', 'leaving'])\n",
    "\n",
    "if end_check.check_sentence() == True:\n",
    "    print(\"Glad talking to you. Bye\")\n",
    "else:\n",
    "    if agg_check.check_sentence() == True:\n",
    "        print(\"I'm sorry about that. Can you tell me another story?\")\n",
    "    else:\n",
    "        if pol_check.check_sentence() == True:\n",
    "            print(\"That's very nice of you. I'd like to know more!\")\n",
    "        else:\n",
    "            print(\"That sounds interesting. Please tell me more\")"
   ]
  },
  {
   "cell_type": "markdown",
   "metadata": {},
   "source": [
    "Ex1: Now you need to test if an input sentense is aggrestive or not. "
   ]
  },
  {
   "cell_type": "markdown",
   "metadata": {},
   "source": [
    "Ex2: Now that you can do it for one round of interaction. You can then define a few words for the termination of the converstaion. For example, if you see the word 'bye' then you just reply 'Glad talking to you. Bye'. "
   ]
  },
  {
   "cell_type": "markdown",
   "metadata": {},
   "source": [
    "Ex3: Finally. I encourage you to write an object oriented version of this code. That is, write a class "
   ]
  },
  {
   "cell_type": "markdown",
   "metadata": {},
   "source": [
    "Ex4: Write some sentences and their corresponding 'rude/not rude' label. Report the accuracy. "
   ]
  },
  {
   "cell_type": "markdown",
   "metadata": {},
   "source": [
    "Ex5: What about polite words? Define a list of polite words and classify such sentences and reply in a nicer way. E.g. \"That's very nice of you. I'd like to know more!\". Now your agent should have 3 different kinds of replies."
   ]
  },
  {
   "cell_type": "code",
   "execution_count": 66,
   "metadata": {
    "collapsed": false
   },
   "outputs": [
    {
     "name": "stdout",
     "output_type": "stream",
     "text": [
      "['fucking', 'fuck', 'shit', 'retard', 'loser']\n",
      "Results & analysis before training:  ([0, 1, -1, 0, -1], -1)\n"
     ]
    },
    {
     "data": {
      "image/png": "[encoded data removed]",
      "text/plain": [
       "<matplotlib.figure.Figure at 0x1126e62b0>"
      ]
     },
     "metadata": {},
     "output_type": "display_data"
    },
    {
     "name": "stdout",
     "output_type": "stream",
     "text": [
      "Top 5 most useful words:  ['fucking', 'fuck', 'shit', 'retard', 'loser']\n",
      "['fucking', 'fuck', 'shit', 'retard', 'loser']\n"
     ]
    },
    {
     "data": {
      "text/plain": [
       "'\\ntest = Human(\"Testing_data\")\\ntest.load_conversation(\\'test_data_Tico.csv\\')\\ntest_a = Agent(\"Testing_agent\")\\nprint(test_a.testing(test))'"
      ]
     },
     "execution_count": 66,
     "metadata": {},
     "output_type": "execute_result"
    }
   ],
   "source": [
    "import matplotlib.pyplot as plt\n",
    "\n",
    "aggressive = -1\n",
    "neutral = 0\n",
    "polite = 1\n",
    "\n",
    "aggressive_words = ['fucking', 'fuck', 'shit', 'retard', 'loser']\n",
    "polite_words = ['please', 'would', 'beautiful', 'excellent']\n",
    "\n",
    "#input_sentence = input(\"Enter a sentence: \")\n",
    "\n",
    "class Sentence_checker:\n",
    "    check_words = []\n",
    "    \n",
    "    def __init__(self, word_list):\n",
    "        self.check_words = word_list\n",
    "        \n",
    "    def check_sentence(self, input_sentence):\n",
    "        splitted_inp = input_sentence.split(' ')\n",
    "        for word in splitted_inp:\n",
    "            if word in self.check_words:\n",
    "                return True\n",
    "        return False\n",
    "    \n",
    "#s = Sentence_checker(aggressive_words)    TESTS\n",
    "#print(s.check_sentence(input_sentence))\n",
    "\n",
    "class Individual:\n",
    "\n",
    "    name = ''\n",
    "    conversation = []\n",
    "    \n",
    "    def __init__(self, name):\n",
    "        self.name = name\n",
    "\n",
    "    def print_name(self):\n",
    "        print(self.name)\n",
    "        \n",
    "#t = Individual(\"Tico\")       #TEST\n",
    "#t.print_name()\n",
    "\n",
    "class Agent(Individual):\n",
    "    \n",
    "    aggressive_checker = Sentence_checker(aggressive_words)\n",
    "    polite_checker = Sentence_checker(polite_words)\n",
    "    importance_rank = {}\n",
    "    top_importance_rank = []\n",
    "    \n",
    "    def __init__(self, name):\n",
    "        super().__init__(name)\n",
    "        \n",
    "    def check_human_sentence(self, input_sentence):\n",
    "        if (self.aggressive_checker.check_sentence(input_sentence)):\n",
    "            return -1\n",
    "        elif (self.polite_checker.check_sentence(input_sentence)):\n",
    "            return 1\n",
    "        else:\n",
    "            return 0\n",
    "        \n",
    "#t = Agent(\"Tico\")           #TEST\n",
    "#t.print_name()\n",
    "#print(t.check_human_sentence(input_sentence))\n",
    "        \n",
    "    def interact_with_human(self, human):       \n",
    "        results = []\n",
    "        training_conversation_history = human.training_sentences\n",
    "        for sen in training_conversation_history:\n",
    "            results.append(self.check_human_sentence(sen))\n",
    "        analysis = sum(results)\n",
    "        return results, analysis\n",
    "    \n",
    "    def training (self, human):\n",
    "        global aggressive_words\n",
    "        for check_word in self.aggressive_checker.check_words:\n",
    "            self.importance_rank[check_word] = 0\n",
    "            amount = 0\n",
    "            for inp_sen in human.training_sentences:\n",
    "                inp_words = inp_sen.split(' ')\n",
    "                for inp_word in inp_words:\n",
    "                    if check_word == inp_word:\n",
    "                        amount += 1\n",
    "            self.importance_rank[check_word] = amount\n",
    "        sorted(self.importance_rank.values(), reverse = True)\n",
    "        plt.bar(range(len(self.importance_rank)), list(self.importance_rank.values()))\n",
    "        plt.xticks(range(len(self.importance_rank)), list(self.importance_rank.keys()))\n",
    "        plt.show()\n",
    "        self.top_importance_rank = list(self.importance_rank.keys())[:5]\n",
    "        aggressive_words = self.top_importance_rank\n",
    "        \n",
    "    def testing (self, human):\n",
    "        results = []\n",
    "        testing_conversation_history = human.training_sentences\n",
    "        for sen in testing_conversation_history:\n",
    "            results.append(self.check_human_sentence(sen))\n",
    "        analysis = sum(results)\n",
    "        return results, analysis\n",
    "            \n",
    "\n",
    "class Human(Individual):\n",
    "    \n",
    "    training_sentences = []\n",
    "    label = []\n",
    "    \n",
    "    def __init__(self, name):\n",
    "        super().__init__(name)\n",
    "        \n",
    "    def load_conversation(self, csv_file_path):\n",
    "        import csv\n",
    "        with open(csv_file_path) as csv_data:\n",
    "            csvReader = csv.reader(csv_data)\n",
    "            next(csvReader)\n",
    "            for row in csvReader:\n",
    "                self.training_sentences.append(row[0])\n",
    "                self.label.append(row[1])\n",
    "        \n",
    "train = Human(\"Training_data\")                 #TEST\n",
    "#print(aggressive_words)\n",
    "train.load_conversation('training_data_stein.csv')\n",
    "print('Results & analysis before training: ', a.interact_with_human(train))\n",
    "train_a = Agent(\"Training_agent\")\n",
    "train_a.training (train)\n",
    "print('Top 5 most useful words: ', train_a.top_importance_rank)\n",
    "#print(aggressive_words)\n",
    "\n",
    "'''\n",
    "test = Human(\"Testing_data\")\n",
    "test.load_conversation('test_data_Tico.csv')\n",
    "test_a = Agent(\"Testing_agent\")\n",
    "print(test_a.testing(test))''' #Isn't this the same as interact_with_human?\n",
    "#Sort function doesn't work as preffered."
   ]
  },
  {
   "cell_type": "markdown",
   "metadata": {},
   "source": [
    "Ex6: both the agent and the human in this conversation are individuals. Can you define a class for human also and make it a subclass of individual (same for the agent case). Please store the name of the user and says good bye to him as the end of the conversation. E.g. \"Good bye Finn\"."
   ]
  }
 ],
 "metadata": {
  "anaconda-cloud": {},
  "kernelspec": {
   "display_name": "Python [conda env:machinelearning]",
   "language": "python",
   "name": "conda-env-machinelearning-py"
  },
  "language_info": {
   "codemirror_mode": {
    "name": "ipython",
    "version": 3
   },
   "file_extension": ".py",
   "mimetype": "text/x-python",
   "name": "python",
   "nbconvert_exporter": "python",
   "pygments_lexer": "ipython3",
   "version": "3.6.2"
  }
 },
 "nbformat": 4,
 "nbformat_minor": 2
}
