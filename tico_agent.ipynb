{
 "cells": [
  {
   "cell_type": "markdown",
   "metadata": {},
   "source": [
    "This is an interactive agent. All it does is to return \"That sounds interesting. Please tell me more\" when it hears non-aggressive sentences. Otherwise, it will simply rely \"I'm sorry about that. Can you tell me another story?\".\n",
    "\n",
    "An aggressive reply is naively defined as one that contains aggresive words. Otherwise, it is not. \n",
    "\n",
    "So we will first need to design a list of words that to identify aggresive sentences."
   ]
  },
  {
   "cell_type": "code",
   "execution_count": 24,
   "metadata": {
    "collapsed": false
   },
   "outputs": [
    {
     "name": "stdout",
     "output_type": "stream",
     "text": [
      "Enter a sentence: hoi fucking shit bye\n",
      "Agressive sentence\n",
      "Glad talking to you. Bye\n",
      "The aggresive words are: ['fuck', 'fucking', 'shit']\n"
     ]
    }
   ],
   "source": [
    "agg_words = ['fuck', 'fucking', 'shit']\n",
    "end_words = ['bye', 'end']\n",
    "inp_sentence = input(\"Enter a sentence: \")\n",
    "\n",
    "def main():\n",
    "    print('The aggresive words are:', agg_words)\n",
    "    \n",
    "def agg_check(agg_words, splitted_inp):\n",
    "    count = 0\n",
    "    for word in splitted_inp:\n",
    "        if word in agg_words:\n",
    "            count += 1\n",
    "            return count\n",
    "\n",
    "def end_check(end_words, splitted_inp):\n",
    "    count = 0\n",
    "    for word in splitted_inp:\n",
    "        if word in end_words:\n",
    "            count += 1\n",
    "            return count\n",
    "\n",
    "splitted_inp = inp_sentence.split()\n",
    "if agg_check(agg_words, splitted_inp) >= 1:\n",
    "    print(\"Agressive sentence\")\n",
    "else:\n",
    "    print(\"Not agressive sentence\")\n",
    "if end_check(end_words, splitted_inp) >= 1:\n",
    "    print(\"Glad talking to you. Bye\")\n",
    "\n",
    "if __name__ == \"__main__\":\n",
    "    main()"
   ]
  },
  {
   "cell_type": "markdown",
   "metadata": {},
   "source": [
    "Ex1: Now you need to test if an input sentense is aggrestive or not. "
   ]
  },
  {
   "cell_type": "markdown",
   "metadata": {},
   "source": [
    "Ex2: Now that you can do it for one round of interaction. You can then define a few words for the termination of the converstaion. For example, if you see the word 'bye' then you just reply 'Glad talking to you. Bye'. "
   ]
  },
  {
   "cell_type": "markdown",
   "metadata": {},
   "source": [
    "Ex3: Finally. I encourage you to write an object oriented version of this code. That is, write a class "
   ]
  },
  {
   "cell_type": "markdown",
   "metadata": {},
   "source": [
    "Ex4: Write some sentences and their corresponding 'rude/not rude' label. Report the accuracy. "
   ]
  },
  {
   "cell_type": "markdown",
   "metadata": {},
   "source": [
    "Ex5: What about polite words? Define a list of polite words and classify such sentences and reply in a nicer way. E.g. \"That's very nice of you. I'd like to know more!\". Now your agent should have 3 different kinds of replies."
   ]
  },
  {
   "cell_type": "code",
   "execution_count": 8,
   "metadata": {
    "collapsed": false
   },
   "outputs": [
    {
     "name": "stdout",
     "output_type": "stream",
     "text": [
      "Finn  has recoreded this conversation:  ['hello', 'who are you?', 'I am Finn']\n",
      "Finn is  angry  now\n"
     ]
    }
   ],
   "source": [
    "class Individual:\n",
    "    \"\"\"A simple example class\"\"\"\n",
    "    name = 'undefined'\n",
    "    emotion = 'angry'\n",
    "    conversation = ['hello', 'who are you?', 'I am Finn']\n",
    "    \n",
    "    def __init__(self):\n",
    "        self.name = 'Finn'\n",
    "\n",
    "    def print_conversation(self):\n",
    "        print(self.name, ' has recoreded this conversation: ', self.conversation)\n",
    "        \n",
    "finn = Individual()\n",
    "finn.print_conversation()\n",
    "print ('Finn is ', finn.emotion, ' now')"
   ]
  },
  {
   "cell_type": "markdown",
   "metadata": {},
   "source": [
    "Ex6: both the agent and the human in this conversation are individuals. Can you define a class for human also and make it a subclass of individual (same for the agent case). Please store the name of the user and says good bye to him as the end of the conversation. E.g. \"Good bye Finn\"."
   ]
  }
 ],
 "metadata": {
  "anaconda-cloud": {},
  "kernelspec": {
   "display_name": "Python [conda env:machinelearning]",
   "language": "python",
   "name": "conda-env-machinelearning-py"
  },
  "language_info": {
   "codemirror_mode": {
    "name": "ipython",
    "version": 3
   },
   "file_extension": ".py",
   "mimetype": "text/x-python",
   "name": "python",
   "nbconvert_exporter": "python",
   "pygments_lexer": "ipython3",
   "version": "3.6.2"
  }
 },
 "nbformat": 4,
 "nbformat_minor": 2
}
