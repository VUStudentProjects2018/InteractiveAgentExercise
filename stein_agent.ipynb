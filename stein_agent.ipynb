{
 "cells": [
  {
   "cell_type": "markdown",
   "metadata": {},
   "source": [
    "This is an interactive agent. All it does is to return \"That sounds interesting. Please tell me more\" when it hears non-aggressive sentences. Otherwise, it will simply rely \"I'm sorry about that. Can you tell me another story?\".\n",
    "\n",
    "An aggressive reply is naively defined as one that contains aggresive words. Otherwise, it is not. \n",
    "\n",
    "So we will first need to design a list of words that to identify aggresive sentences."
   ]
  },
  {
   "cell_type": "code",
   "execution_count": 9,
   "metadata": {},
   "outputs": [
    {
     "name": "stdout",
     "output_type": "stream",
     "text": [
      "enter a sentence: fuck\n",
      "aggressive\n",
      "enter a sentence: bye\n",
      "1\n",
      "glad talking to you bye\n",
      "enter a sentence: you are welcome\n",
      "That is very nice of you\n"
     ]
    }
   ],
   "source": [
    "import random\n",
    "\n",
    "agg_words = ['fuck', 'fucking', 'shit', 'tyfus', 'merde', 'wanker']\n",
    "bye_words = ['bye', 'farewell', 'seeya', 'goodbye']\n",
    "polite_words = ['thanks', 'welcome', 'merci']\n",
    "polite_responses = ['That is very nice of you, I would like to know more', 'That is very interesting, please continue!', 'You are nice too!' ]    \n",
    "\n",
    "class sentence_checker:\n",
    "    \n",
    "    def __init__(self):\n",
    "        self.a = agg_words\n",
    "        self.b = bye_words\n",
    "        self.c = polite_words\n",
    "        self.r = polite_responses\n",
    "        self.split = []\n",
    "    \n",
    "    def check_sentence(self, variable):\n",
    "        count = 0\n",
    "        for word in variable:\n",
    "            if word in self.split:\n",
    "                #print(word)\n",
    "                count += 1\n",
    "            return count\n",
    "    \n",
    "    def aggressive(self):\n",
    "        string = input('enter a sentence: ')\n",
    "        self.split = string.split()\n",
    "        k = self.check_sentence(self.a)\n",
    "        if k == 0:\n",
    "            print ('not aggressive')\n",
    "        else:\n",
    "            print ('aggressive')\n",
    "\n",
    "    def goodbye(self):\n",
    "        string = input('enter a sentence: ')\n",
    "        self.split = string.split()\n",
    "        f = self.check_sentence(self.b)\n",
    "        print(f)\n",
    "        if f > 0:\n",
    "            print ('glad talking to you bye')\n",
    "    \n",
    "    def polite(self):\n",
    "        string = input('enter a sentence: ')\n",
    "        self.split = string.split()\n",
    "        g = self.check_sentence(self.c)\n",
    "        if g == 0:\n",
    "            print(random.choice(self.r))    \n",
    "            \n",
    "s = sentence_checker()\n",
    "s.aggressive()\n",
    "s.goodbye()\n",
    "s.polite()"
   ]
  },
  {
   "cell_type": "markdown",
   "metadata": {},
   "source": [
    "Ex1: Now you need to test if an input sentense is aggrestive or not. "
   ]
  },
  {
   "cell_type": "markdown",
   "metadata": {},
   "source": [
    "Ex2: Now that you can do it for one round of interaction. You can then define a few words for the termination of the converstaion. For example, if you see the word 'bye' then you just reply 'Glad talking to you. Bye'. "
   ]
  },
  {
   "cell_type": "markdown",
   "metadata": {},
   "source": [
    "Ex3: Finally. I encourage you to write an object oriented version of this code. That is, write a class "
   ]
  },
  {
   "cell_type": "markdown",
   "metadata": {},
   "source": [
    "Ex4: Write some sentences and their corresponding 'rude/not rude' label. Report the accuracy. "
   ]
  },
  {
   "cell_type": "markdown",
   "metadata": {},
   "source": [
    "Ex5: What about polite words? Define a list of polite words and classify such sentences and reply in a nicer way. E.g. \"That's very nice of you. I'd like to know more!\". Now your agent should have 3 different kinds of replies."
   ]
  },
  {
   "cell_type": "code",
   "execution_count": null,
   "metadata": {},
   "outputs": [],
   "source": [
    "class Individual:\n",
    "    \"\"\"A simple example class\"\"\"\n",
    "    name = 'undefined'\n",
    "    emotion = 'angry'\n",
    "    conversation = ['hello', 'who are you?', 'I am Finn']\n",
    "    \n",
    "    def __init__(self):\n",
    "        self.name = 'Finn'\n",
    "\n",
    "    def print_conversation(self):\n",
    "        print(self.name, ' has recoreded this conversation: ', self.conversation)\n",
    "        \n",
    "finn = Individual()\n",
    "finn.print_conversation()\n",
    "print ('Finn is ', finn.emotion, ' now')"
   ]
  },
  {
   "cell_type": "markdown",
   "metadata": {},
   "source": [
    "Ex6: both the agent and the human in this conversation are individuals. Can you define a class for human also and make it a subclass of individual (same for the agent case). Please store the name of the user and says good bye to him as the end of the conversation. E.g. \"Good bye Finn\"."
   ]
  },
  {
   "cell_type": "code",
   "execution_count": null,
   "metadata": {},
   "outputs": [],
   "source": []
  },
  {
   "cell_type": "code",
   "execution_count": null,
   "metadata": {},
   "outputs": [],
   "source": []
  },
  {
   "cell_type": "code",
   "execution_count": null,
   "metadata": {},
   "outputs": [],
   "source": []
  },
  {
   "cell_type": "code",
   "execution_count": null,
   "metadata": {},
   "outputs": [],
   "source": []
  },
  {
   "cell_type": "code",
   "execution_count": null,
   "metadata": {},
   "outputs": [],
   "source": []
  },
  {
   "cell_type": "code",
   "execution_count": null,
   "metadata": {},
   "outputs": [],
   "source": []
  }
 ],
 "metadata": {
  "kernelspec": {
   "display_name": "Python 3",
   "language": "python",
   "name": "python3"
  },
  "language_info": {
   "codemirror_mode": {
    "name": "ipython",
    "version": 3
   },
   "file_extension": ".py",
   "mimetype": "text/x-python",
   "name": "python",
   "nbconvert_exporter": "python",
   "pygments_lexer": "ipython3",
   "version": "3.6.4"
  }
 },
 "nbformat": 4,
 "nbformat_minor": 2
}
